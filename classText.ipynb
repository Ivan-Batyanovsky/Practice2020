{
 "cells": [
  {
   "cell_type": "code",
   "execution_count": 149,
   "metadata": {},
   "outputs": [],
   "source": [
    "import pymysql\n",
    "import pandas as pd\n",
    "import numpy as np"
   ]
  },
  {
   "cell_type": "code",
   "execution_count": 150,
   "metadata": {},
   "outputs": [
    {
     "data": {
      "text/html": [
       "<div>\n",
       "<style scoped>\n",
       "    .dataframe tbody tr th:only-of-type {\n",
       "        vertical-align: middle;\n",
       "    }\n",
       "\n",
       "    .dataframe tbody tr th {\n",
       "        vertical-align: top;\n",
       "    }\n",
       "\n",
       "    .dataframe thead th {\n",
       "        text-align: right;\n",
       "    }\n",
       "</style>\n",
       "<table border=\"1\" class=\"dataframe\">\n",
       "  <thead>\n",
       "    <tr style=\"text-align: right;\">\n",
       "      <th></th>\n",
       "      <th>title</th>\n",
       "      <th>genre</th>\n",
       "      <th>content</th>\n",
       "    </tr>\n",
       "    <tr>\n",
       "      <th>id</th>\n",
       "      <th></th>\n",
       "      <th></th>\n",
       "      <th></th>\n",
       "    </tr>\n",
       "  </thead>\n",
       "  <tbody>\n",
       "    <tr>\n",
       "      <th>1</th>\n",
       "      <td>'Москвичей предупредили о заполярной погоде'</td>\n",
       "      <td>'russia'</td>\n",
       "      <td>'В столичном регионе ожидается похолодание Об ...</td>\n",
       "    </tr>\n",
       "    <tr>\n",
       "      <th>2</th>\n",
       "      <td>'Нескольким российским регионам предсказали во...</td>\n",
       "      <td>'russia'</td>\n",
       "      <td>'Нескольким российским регионам предсказали во...</td>\n",
       "    </tr>\n",
       "    <tr>\n",
       "      <th>3</th>\n",
       "      <td>'Появилось видео с места крушения Ан'</td>\n",
       "      <td>'russia'</td>\n",
       "      <td>''</td>\n",
       "    </tr>\n",
       "    <tr>\n",
       "      <th>4</th>\n",
       "      <td>'Перечислены регионы с наибольшим числом новых...</td>\n",
       "      <td>'russia'</td>\n",
       "      <td>'Наибольшее число новых случаев коронавируса з...</td>\n",
       "    </tr>\n",
       "    <tr>\n",
       "      <th>5</th>\n",
       "      <td>'Число умерших россиян с коронавирусом превыси...</td>\n",
       "      <td>'russia'</td>\n",
       "      <td>'Число умерших россиян с коронавирусом выросло...</td>\n",
       "    </tr>\n",
       "    <tr>\n",
       "      <th>...</th>\n",
       "      <td>...</td>\n",
       "      <td>...</td>\n",
       "      <td>...</td>\n",
       "    </tr>\n",
       "    <tr>\n",
       "      <th>6334</th>\n",
       "      <td>'Фигура итальянской биатлонистки в купальнике ...</td>\n",
       "      <td>'sport'</td>\n",
       "      <td>'Итальянская биатлонистка Доротея Вирер выложи...</td>\n",
       "    </tr>\n",
       "    <tr>\n",
       "      <th>6335</th>\n",
       "      <td>'В UFC назвали место проведения боя Нурмагомед...</td>\n",
       "      <td>'sport'</td>\n",
       "      <td>'Россиянин Хабиб Нурмагомедов проведет бой с а...</td>\n",
       "    </tr>\n",
       "    <tr>\n",
       "      <th>6336</th>\n",
       "      <td>'Роналду промахнулся с пенальти впервые за  дней'</td>\n",
       "      <td>'sport'</td>\n",
       "      <td>'Форвард Ювентуса и сборной Португалии Криштиа...</td>\n",
       "    </tr>\n",
       "    <tr>\n",
       "      <th>6337</th>\n",
       "      <td>'Чиновников предложили лишать полученных за ди...</td>\n",
       "      <td>'sport'</td>\n",
       "      <td>'Тренер по прыжкам в высоту Евгений Загорулько...</td>\n",
       "    </tr>\n",
       "    <tr>\n",
       "      <th>6338</th>\n",
       "      <td>'Нурмагомедов вспомнил о поединке с Макгрегоро...</td>\n",
       "      <td>'sport'</td>\n",
       "      <td>'Российский боец смешанного стиля MMA Хабиб Ну...</td>\n",
       "    </tr>\n",
       "  </tbody>\n",
       "</table>\n",
       "<p>6338 rows × 3 columns</p>\n",
       "</div>"
      ],
      "text/plain": [
       "                                                  title     genre                                            content\n",
       "id                                                                                                                  \n",
       "1          'Москвичей предупредили о заполярной погоде'  'russia'  'В столичном регионе ожидается похолодание Об ...\n",
       "2     'Нескольким российским регионам предсказали во...  'russia'  'Нескольким российским регионам предсказали во...\n",
       "3                 'Появилось видео с места крушения Ан'  'russia'                                                 ''\n",
       "4     'Перечислены регионы с наибольшим числом новых...  'russia'  'Наибольшее число новых случаев коронавируса з...\n",
       "5     'Число умерших россиян с коронавирусом превыси...  'russia'  'Число умерших россиян с коронавирусом выросло...\n",
       "...                                                 ...       ...                                                ...\n",
       "6334  'Фигура итальянской биатлонистки в купальнике ...   'sport'  'Итальянская биатлонистка Доротея Вирер выложи...\n",
       "6335  'В UFC назвали место проведения боя Нурмагомед...   'sport'  'Россиянин Хабиб Нурмагомедов проведет бой с а...\n",
       "6336  'Роналду промахнулся с пенальти впервые за  дней'   'sport'  'Форвард Ювентуса и сборной Португалии Криштиа...\n",
       "6337  'Чиновников предложили лишать полученных за ди...   'sport'  'Тренер по прыжкам в высоту Евгений Загорулько...\n",
       "6338  'Нурмагомедов вспомнил о поединке с Макгрегоро...   'sport'  'Российский боец смешанного стиля MMA Хабиб Ну...\n",
       "\n",
       "[6338 rows x 3 columns]"
      ]
     },
     "execution_count": 150,
     "metadata": {},
     "output_type": "execute_result"
    }
   ],
   "source": [
    "conn = pymysql.connect(host=\"127.0.0.1\", user=\"root\", passwd=\"Eszqsc1234\", db=\"mysql\", use_unicode=True, charset=\"utf8\")\n",
    "cur = conn.cursor()\n",
    "cur.execute(\"USE scraping\")\n",
    "\n",
    "news_data = pd.read_sql(\"SELECT * FROM protNews\", conn, index_col=\"id\")\n",
    "pd.set_option('display.expand_frame_repr', False)\n",
    "\n",
    "conn.close()\n",
    "cur.close()\n",
    "\n",
    "news_data"
   ]
  },
  {
   "cell_type": "code",
   "execution_count": null,
   "metadata": {},
   "outputs": [],
   "source": [
    "import matplotlib.pyplot as plt\n",
    "plt.style.use('ggplot')\n",
    "\n",
    "def plot_history(history):\n",
    "    acc = history.history['accuracy']\n",
    "    val_acc = history.history['val_accuracy']\n",
    "    loss = history.history['loss']\n",
    "    val_loss = history.history['val_loss']\n",
    "    x = range(1, len(acc) + 1)\n",
    "\n",
    "    plt.figure(figsize=(12, 5))\n",
    "    plt.subplot(1, 2, 1)\n",
    "    plt.plot(x, acc, 'b', label='Training acc')\n",
    "    plt.plot(x, val_acc, 'r', label='Validation acc')\n",
    "    plt.title('Training and validation accuracy')\n",
    "    plt.legend()\n",
    "    plt.subplot(1, 2, 2)\n",
    "    plt.plot(x, loss, 'b', label='Training loss')\n",
    "    plt.plot(x, val_loss, 'r', label='Validation loss')\n",
    "    plt.title('Training and validation loss')\n",
    "    plt.legend()"
   ]
  },
  {
   "cell_type": "code",
   "execution_count": 151,
   "metadata": {},
   "outputs": [
    {
     "data": {
      "text/html": [
       "<div>\n",
       "<style scoped>\n",
       "    .dataframe tbody tr th:only-of-type {\n",
       "        vertical-align: middle;\n",
       "    }\n",
       "\n",
       "    .dataframe tbody tr th {\n",
       "        vertical-align: top;\n",
       "    }\n",
       "\n",
       "    .dataframe thead th {\n",
       "        text-align: right;\n",
       "    }\n",
       "</style>\n",
       "<table border=\"1\" class=\"dataframe\">\n",
       "  <thead>\n",
       "    <tr style=\"text-align: right;\">\n",
       "      <th></th>\n",
       "      <th>title</th>\n",
       "      <th>genre</th>\n",
       "      <th>content</th>\n",
       "    </tr>\n",
       "    <tr>\n",
       "      <th>id</th>\n",
       "      <th></th>\n",
       "      <th></th>\n",
       "      <th></th>\n",
       "    </tr>\n",
       "  </thead>\n",
       "  <tbody>\n",
       "    <tr>\n",
       "      <th>3</th>\n",
       "      <td>'Появилось видео с места крушения Ан'</td>\n",
       "      <td>'russia'</td>\n",
       "      <td>''</td>\n",
       "    </tr>\n",
       "    <tr>\n",
       "      <th>10</th>\n",
       "      <td>'Густой черный дым от пожара на российском скл...</td>\n",
       "      <td>'russia'</td>\n",
       "      <td>''</td>\n",
       "    </tr>\n",
       "    <tr>\n",
       "      <th>33</th>\n",
       "      <td>'Россиянина с переломом обматерили в больнице ...</td>\n",
       "      <td>'russia'</td>\n",
       "      <td>''</td>\n",
       "    </tr>\n",
       "    <tr>\n",
       "      <th>58</th>\n",
       "      <td>'На поле в Воронеже нашли загадочные круги'</td>\n",
       "      <td>'russia'</td>\n",
       "      <td>''</td>\n",
       "    </tr>\n",
       "    <tr>\n",
       "      <th>67</th>\n",
       "      <td>'В Москве компания чеченцев избила кричавшего ...</td>\n",
       "      <td>'russia'</td>\n",
       "      <td>''</td>\n",
       "    </tr>\n",
       "    <tr>\n",
       "      <th>...</th>\n",
       "      <td>...</td>\n",
       "      <td>...</td>\n",
       "      <td>...</td>\n",
       "    </tr>\n",
       "    <tr>\n",
       "      <th>6273</th>\n",
       "      <td>'Футболист Арсенала получил тяжелую травму в с...</td>\n",
       "      <td>'sport'</td>\n",
       "      <td>''</td>\n",
       "    </tr>\n",
       "    <tr>\n",
       "      <th>6305</th>\n",
       "      <td>'Плющенко и Трусова восхитили фанатов синхронн...</td>\n",
       "      <td>'sport'</td>\n",
       "      <td>''</td>\n",
       "    </tr>\n",
       "    <tr>\n",
       "      <th>6316</th>\n",
       "      <td>'Итальянский боец UFC задушил соперника'</td>\n",
       "      <td>'sport'</td>\n",
       "      <td>''</td>\n",
       "    </tr>\n",
       "    <tr>\n",
       "      <th>6329</th>\n",
       "      <td>'Боец Шлеменко обнаружил в Иртыше тело утонувш...</td>\n",
       "      <td>'sport'</td>\n",
       "      <td>''</td>\n",
       "    </tr>\n",
       "    <tr>\n",
       "      <th>6330</th>\n",
       "      <td>'Футболист забил гол после смерти'</td>\n",
       "      <td>'sport'</td>\n",
       "      <td>''</td>\n",
       "    </tr>\n",
       "  </tbody>\n",
       "</table>\n",
       "<p>362 rows × 3 columns</p>\n",
       "</div>"
      ],
      "text/plain": [
       "                                                  title     genre content\n",
       "id                                                                       \n",
       "3                 'Появилось видео с места крушения Ан'  'russia'      ''\n",
       "10    'Густой черный дым от пожара на российском скл...  'russia'      ''\n",
       "33    'Россиянина с переломом обматерили в больнице ...  'russia'      ''\n",
       "58          'На поле в Воронеже нашли загадочные круги'  'russia'      ''\n",
       "67    'В Москве компания чеченцев избила кричавшего ...  'russia'      ''\n",
       "...                                                 ...       ...     ...\n",
       "6273  'Футболист Арсенала получил тяжелую травму в с...   'sport'      ''\n",
       "6305  'Плющенко и Трусова восхитили фанатов синхронн...   'sport'      ''\n",
       "6316           'Итальянский боец UFC задушил соперника'   'sport'      ''\n",
       "6329  'Боец Шлеменко обнаружил в Иртыше тело утонувш...   'sport'      ''\n",
       "6330                 'Футболист забил гол после смерти'   'sport'      ''\n",
       "\n",
       "[362 rows x 3 columns]"
      ]
     },
     "execution_count": 151,
     "metadata": {},
     "output_type": "execute_result"
    }
   ],
   "source": [
    "# Новости с пустым контентом\n",
    "cleared_news_data = news_data[news_data[\"content\"] == \"''\"]\n",
    "cleared_news_data"
   ]
  },
  {
   "cell_type": "code",
   "execution_count": 6,
   "metadata": {},
   "outputs": [
    {
     "data": {
      "text/html": [
       "<div>\n",
       "<style scoped>\n",
       "    .dataframe tbody tr th:only-of-type {\n",
       "        vertical-align: middle;\n",
       "    }\n",
       "\n",
       "    .dataframe tbody tr th {\n",
       "        vertical-align: top;\n",
       "    }\n",
       "\n",
       "    .dataframe thead th {\n",
       "        text-align: right;\n",
       "    }\n",
       "</style>\n",
       "<table border=\"1\" class=\"dataframe\">\n",
       "  <thead>\n",
       "    <tr style=\"text-align: right;\">\n",
       "      <th></th>\n",
       "      <th>title</th>\n",
       "      <th>genre</th>\n",
       "      <th>content</th>\n",
       "    </tr>\n",
       "    <tr>\n",
       "      <th>id</th>\n",
       "      <th></th>\n",
       "      <th></th>\n",
       "      <th></th>\n",
       "    </tr>\n",
       "  </thead>\n",
       "  <tbody>\n",
       "    <tr>\n",
       "      <th>1</th>\n",
       "      <td>'Москвичей предупредили о заполярной погоде'</td>\n",
       "      <td>'russia'</td>\n",
       "      <td>'В столичном регионе ожидается похолодание Об ...</td>\n",
       "    </tr>\n",
       "    <tr>\n",
       "      <th>2</th>\n",
       "      <td>'Нескольким российским регионам предсказали во...</td>\n",
       "      <td>'russia'</td>\n",
       "      <td>'Нескольким российским регионам предсказали во...</td>\n",
       "    </tr>\n",
       "    <tr>\n",
       "      <th>4</th>\n",
       "      <td>'Перечислены регионы с наибольшим числом новых...</td>\n",
       "      <td>'russia'</td>\n",
       "      <td>'Наибольшее число новых случаев коронавируса з...</td>\n",
       "    </tr>\n",
       "    <tr>\n",
       "      <th>5</th>\n",
       "      <td>'Число умерших россиян с коронавирусом превыси...</td>\n",
       "      <td>'russia'</td>\n",
       "      <td>'Число умерших россиян с коронавирусом выросло...</td>\n",
       "    </tr>\n",
       "    <tr>\n",
       "      <th>6</th>\n",
       "      <td>'Россиянам рассказали о трех возможностях не з...</td>\n",
       "      <td>'russia'</td>\n",
       "      <td>'Иммунолог эксперт по общественному здоровью и...</td>\n",
       "    </tr>\n",
       "    <tr>\n",
       "      <th>...</th>\n",
       "      <td>...</td>\n",
       "      <td>...</td>\n",
       "      <td>...</td>\n",
       "    </tr>\n",
       "    <tr>\n",
       "      <th>6334</th>\n",
       "      <td>'Фигура итальянской биатлонистки в купальнике ...</td>\n",
       "      <td>'sport'</td>\n",
       "      <td>'Итальянская биатлонистка Доротея Вирер выложи...</td>\n",
       "    </tr>\n",
       "    <tr>\n",
       "      <th>6335</th>\n",
       "      <td>'В UFC назвали место проведения боя Нурмагомед...</td>\n",
       "      <td>'sport'</td>\n",
       "      <td>'Россиянин Хабиб Нурмагомедов проведет бой с а...</td>\n",
       "    </tr>\n",
       "    <tr>\n",
       "      <th>6336</th>\n",
       "      <td>'Роналду промахнулся с пенальти впервые за  дней'</td>\n",
       "      <td>'sport'</td>\n",
       "      <td>'Форвард Ювентуса и сборной Португалии Криштиа...</td>\n",
       "    </tr>\n",
       "    <tr>\n",
       "      <th>6337</th>\n",
       "      <td>'Чиновников предложили лишать полученных за ди...</td>\n",
       "      <td>'sport'</td>\n",
       "      <td>'Тренер по прыжкам в высоту Евгений Загорулько...</td>\n",
       "    </tr>\n",
       "    <tr>\n",
       "      <th>6338</th>\n",
       "      <td>'Нурмагомедов вспомнил о поединке с Макгрегоро...</td>\n",
       "      <td>'sport'</td>\n",
       "      <td>'Российский боец смешанного стиля MMA Хабиб Ну...</td>\n",
       "    </tr>\n",
       "  </tbody>\n",
       "</table>\n",
       "<p>5976 rows × 3 columns</p>\n",
       "</div>"
      ],
      "text/plain": [
       "                                                  title     genre                                            content\n",
       "id                                                                                                                  \n",
       "1          'Москвичей предупредили о заполярной погоде'  'russia'  'В столичном регионе ожидается похолодание Об ...\n",
       "2     'Нескольким российским регионам предсказали во...  'russia'  'Нескольким российским регионам предсказали во...\n",
       "4     'Перечислены регионы с наибольшим числом новых...  'russia'  'Наибольшее число новых случаев коронавируса з...\n",
       "5     'Число умерших россиян с коронавирусом превыси...  'russia'  'Число умерших россиян с коронавирусом выросло...\n",
       "6     'Россиянам рассказали о трех возможностях не з...  'russia'  'Иммунолог эксперт по общественному здоровью и...\n",
       "...                                                 ...       ...                                                ...\n",
       "6334  'Фигура итальянской биатлонистки в купальнике ...   'sport'  'Итальянская биатлонистка Доротея Вирер выложи...\n",
       "6335  'В UFC назвали место проведения боя Нурмагомед...   'sport'  'Россиянин Хабиб Нурмагомедов проведет бой с а...\n",
       "6336  'Роналду промахнулся с пенальти впервые за  дней'   'sport'  'Форвард Ювентуса и сборной Португалии Криштиа...\n",
       "6337  'Чиновников предложили лишать полученных за ди...   'sport'  'Тренер по прыжкам в высоту Евгений Загорулько...\n",
       "6338  'Нурмагомедов вспомнил о поединке с Макгрегоро...   'sport'  'Российский боец смешанного стиля MMA Хабиб Ну...\n",
       "\n",
       "[5976 rows x 3 columns]"
      ]
     },
     "execution_count": 6,
     "metadata": {},
     "output_type": "execute_result"
    }
   ],
   "source": [
    "# Новости без пустых content\n",
    "data = news_data.drop(cleared_news_data.index)\n",
    "data"
   ]
  },
  {
   "cell_type": "code",
   "execution_count": 155,
   "metadata": {},
   "outputs": [
    {
     "data": {
      "text/plain": [
       "id\n",
       "1       1\n",
       "2       1\n",
       "4       1\n",
       "5       1\n",
       "6       1\n",
       "       ..\n",
       "6334    8\n",
       "6335    8\n",
       "6336    8\n",
       "6337    8\n",
       "6338    8\n",
       "Name: genre, Length: 5976, dtype: int64"
      ]
     },
     "execution_count": 155,
     "metadata": {},
     "output_type": "execute_result"
    }
   ],
   "source": [
    "maper = {\"'russia'\": 1, \"'world'\": 2, \"'ussr'\": 3, \"'economics'\": 4, \"'forces'\": 5,\n",
    "         \"'science'\": 6, \"'culture'\": 7, \"'sport'\": 8, \"'media'\": 9, \"'style'\": 10}\n",
    "gen = data.genre.map(lambda p: maper[p])\n",
    "gen"
   ]
  },
  {
   "cell_type": "code",
   "execution_count": 156,
   "metadata": {},
   "outputs": [],
   "source": [
    "from sklearn.model_selection import train_test_split\n",
    "\n",
    "y = gen\n",
    "sentences = data[\"content\"]\n",
    "\n",
    "sentences_train, sentences_test, y_train, y_test = train_test_split(\n",
    "    sentences, y, test_size=0.25, random_state=1000)"
   ]
  },
  {
   "cell_type": "code",
   "execution_count": 88,
   "metadata": {},
   "outputs": [],
   "source": [
    "from keras.utils import to_categorical\n",
    "y_train_binary = to_categorical(y_train)\n",
    "y_test_binary = to_categorical(y_test)\n"
   ]
  },
  {
   "cell_type": "code",
   "execution_count": 90,
   "metadata": {},
   "outputs": [
    {
     "name": "stdout",
     "output_type": "stream",
     "text": [
      "'Нескольким российским регионам предсказали волну жары — температура поднимется выше нормы на   градусов Об этом сообщил научный руководитель Гидрометцентра Роман Вильфанд передает ТАСС По словам Вильфанда в Свердловской Челябинской Курганской и Тюменской областях температура держится на отметке в  градусов иногда поднимаясь до  градусов что превышает норму на  градусов Он пояснил что в указанных регионах очень ярко выражена волна тепла добавив что такая погода продлится до середины недели Ранее аллерголог Ирина Ярцева рассказала что употребление кофе в жаркую погоду может навредить организму так как этот напиток ускоряет выведение жидкости из организма — в жару это может привести к обезвоживанию Она также посоветовала ограничить употребление кофе в том случае если у человека есть физическая активность и нагрузки Ярцева добавила что людям с мочекаменными болезнями и поражением почек кофе не стоит пить больше одной чашки в день Максимальное количество кофе которое восполняется жидкостью и не вредит организму — три чашки в день'\n",
      "[2585, 155, 466, 594, 1723, 2, 3414, 3, 12, 4290, 48, 39, 1724, 1762, 2, 8967, 2323, 5432, 3, 8314, 378, 7225, 16, 990, 9816, 5164, 126, 105, 16, 6772, 730, 305, 161, 1501, 8315, 1, 166, 2586, 16, 1952, 2, 1521, 1, 58, 2324, 8968, 26, 16, 4677, 1952, 81, 3967, 15, 142, 6351, 29, 9817, 72, 792, 225, 40, 5, 41, 7, 9818, 2163, 3, 1841, 29, 236, 1142, 19, 3658, 9819, 737, 793, 1, 841, 2, 9820, 3659, 1, 309, 23, 1224, 1723, 1916, 19, 9821, 1, 1576, 394, 3, 4898, 225, 5, 34, 31, 842, 2586, 3, 7226, 5, 1205, 52, 8, 1522, 407, 1026, 1, 26, 5978, 6, 559, 180, 2587, 103, 519, 3660, 1, 3300, 1109, 920, 46, 1, 12, 1798, 8969, 958, 64, 167, 223, 4472, 348, 655, 751, 3, 278, 373, 26, 2, 77, 276, 48, 731, 1381, 50, 4473, 1, 1425, 2588, 2, 6, 1602, 21, 64, 1186]\n"
     ]
    }
   ],
   "source": [
    "from keras.preprocessing.text import Tokenizer\n",
    "\n",
    "tokenizer = Tokenizer(num_words=10000)\n",
    "tokenizer.fit_on_texts(sentences_train)\n",
    "\n",
    "X_train = tokenizer.texts_to_sequences(sentences_train)\n",
    "X_test = tokenizer.texts_to_sequences(sentences_test)\n",
    "\n",
    "vocab_size = len(tokenizer.word_index) + 1  # Adding 1 because of reserved 0 index\n",
    "\n",
    "print(sentences_train[2])\n",
    "print(X_train[2])"
   ]
  },
  {
   "cell_type": "code",
   "execution_count": 114,
   "metadata": {},
   "outputs": [
    {
     "name": "stdout",
     "output_type": "stream",
     "text": [
      "[ 456    5 6769 ...    0    0    0]\n"
     ]
    }
   ],
   "source": [
    "from keras.preprocessing.sequence import pad_sequences\n",
    "\n",
    "maxlen = 10000\n",
    "\n",
    "X_train = pad_sequences(X_train, padding='post', maxlen=maxlen)\n",
    "X_test = pad_sequences(X_test, padding='post', maxlen=maxlen)\n",
    "\n",
    "print(X_train[0, :])"
   ]
  },
  {
   "cell_type": "code",
   "execution_count": 117,
   "metadata": {},
   "outputs": [
    {
     "name": "stdout",
     "output_type": "stream",
     "text": [
      "Model: \"sequential_20\"\n",
      "_________________________________________________________________\n",
      "Layer (type)                 Output Shape              Param #   \n",
      "=================================================================\n",
      "embedding_9 (Embedding)      (None, 10000, 50)         3848450   \n",
      "_________________________________________________________________\n",
      "global_max_pooling1d_9 (Glob (None, 50)                0         \n",
      "_________________________________________________________________\n",
      "dense_40 (Dense)             (None, 256)               13056     \n",
      "_________________________________________________________________\n",
      "dense_41 (Dense)             (None, 11)                2827      \n",
      "=================================================================\n",
      "Total params: 3,864,333\n",
      "Trainable params: 3,864,333\n",
      "Non-trainable params: 0\n",
      "_________________________________________________________________\n"
     ]
    }
   ],
   "source": [
    "from keras.models import Sequential\n",
    "from keras import layers\n",
    "\n",
    "embedding_dim = 50\n",
    "\n",
    "model2 = Sequential(name=\"LastHope\")\n",
    "model2.add(layers.Embedding(input_dim=vocab_size, \n",
    "                           output_dim=embedding_dim, \n",
    "                           input_length=maxlen))\n",
    "model2.add(layers.GlobalMaxPool1D())\n",
    "model2.add(layers.Dense(256, activation='relu'))\n",
    "model2.add(layers.Dense(11, activation='softmax'))\n",
    "model2.compile(optimizer='adam',\n",
    "              loss='categorical_crossentropy',\n",
    "              metrics=['accuracy'])\n",
    "model2.summary()"
   ]
  },
  {
   "cell_type": "code",
   "execution_count": 119,
   "metadata": {},
   "outputs": [
    {
     "name": "stdout",
     "output_type": "stream",
     "text": [
      "Train on 4482 samples, validate on 1494 samples\n",
      "Epoch 1/5\n",
      "4482/4482 [==============================] - 126s 28ms/step - loss: 1.9303 - accuracy: 0.3228 - val_loss: 1.5917 - val_accuracy: 0.4538\n",
      "Epoch 2/5\n",
      "4482/4482 [==============================] - 104s 23ms/step - loss: 1.1079 - accuracy: 0.6618 - val_loss: 1.0117 - val_accuracy: 0.6821\n",
      "Epoch 3/5\n",
      "4482/4482 [==============================] - 106s 24ms/step - loss: 0.6133 - accuracy: 0.8269 - val_loss: 0.8884 - val_accuracy: 0.7262\n",
      "Epoch 4/5\n",
      "4482/4482 [==============================] - 104s 23ms/step - loss: 0.3520 - accuracy: 0.9074 - val_loss: 0.8812 - val_accuracy: 0.7216\n",
      "Epoch 5/5\n",
      "4482/4482 [==============================] - 100s 22ms/step - loss: 0.1987 - accuracy: 0.9565 - val_loss: 0.8972 - val_accuracy: 0.7162\n",
      "Training Accuracy: 0.9817\n",
      "Testing Accuracy:  0.7162\n"
     ]
    },
    {
     "data": {
      "image/png": "[encoded data removed]",
      "text/plain": [
       "<Figure size 864x360 with 2 Axes>"
      ]
     },
     "metadata": {},
     "output_type": "display_data"
    }
   ],
   "source": [
    "history = model2.fit(X_train, y_train_binary,\n",
    "                    epochs=5,\n",
    "                    verbose=1,\n",
    "                    validation_data=(X_test, y_test_binary),\n",
    "                    batch_size=10)\n",
    "loss, accuracy = model2.evaluate(X_train, y_train_binary, verbose=False)\n",
    "print(\"Training Accuracy: {:.4f}\".format(accuracy))\n",
    "loss, accuracy = model2.evaluate(X_test, y_test_binary, verbose=False)\n",
    "print(\"Testing Accuracy:  {:.4f}\".format(accuracy))\n",
    "plot_history(history)"
   ]
  },
  {
   "cell_type": "code",
   "execution_count": 112,
   "metadata": {},
   "outputs": [
    {
     "name": "stdout",
     "output_type": "stream",
     "text": [
      "Training Accuracy: 0.9955\n",
      "Testing Accuracy:  0.7055\n"
     ]
    },
    {
     "data": {
      "image/png": "[encoded data removed]",
      "text/plain": [
       "<Figure size 864x360 with 2 Axes>"
      ]
     },
     "metadata": {},
     "output_type": "display_data"
    }
   ],
   "source": [
    "loss, accuracy = model.evaluate(X_train, y_train_binary, verbose=False)\n",
    "print(\"Training Accuracy: {:.4f}\".format(accuracy))\n",
    "loss, accuracy = model.evaluate(X_test, y_test_binary, verbose=False)\n",
    "print(\"Testing Accuracy:  {:.4f}\".format(accuracy))\n",
    "plot_history(history)"
   ]
  },
  {
   "cell_type": "code",
   "execution_count": 161,
   "metadata": {},
   "outputs": [
    {
     "name": "stdout",
     "output_type": "stream",
     "text": [
      "[8]\n",
      "{\"'russia'\": 1, \"'world'\": 2, \"'ussr'\": 3, \"'economics'\": 4, \"'forces'\": 5, \"'science'\": 6, \"'culture'\": 7, \"'sport'\": 8, \"'media'\": 9, \"'style'\": 10}\n"
     ]
    }
   ],
   "source": [
    "text1 = \"'Помимо применения физической силы, судья по ходу игры был уличен в использовании мобильного телефона. Встреча прошла в Кисловодске в понедельник, 13 июля, и завершилась со счетом 1:1.'\"\n",
    "text = \"В наступившем году должны состояться первые с июля 2011-го пилотируемые полеты США к МКС на собственных космических кораблях (до этого США отправляли своих астронавтов на околоземную орбиту при помощи многоразовых космических кораблей Space Shuttle). Скорее всего, первым из них в первом полугодии стартует Crew Dragon компании SpaceX, в декабре 2019-го успешно завершивший испытания парашютной системы, к которой ранее у НАСА были претензии, а до этого, в марте того же года, выполнивший первый (в беспилотном режиме) полет к МКС.\"\n",
    "re = tokenizer.texts_to_sequences([text1])\n",
    "resu = pad_sequences(re, padding='post', maxlen=maxlen)\n",
    "otvet = model2.predict(resu)\n",
    "# print(otvet, otvet.max())\n",
    "print(np.where(otvet == np.amax(otvet))[1])\n",
    "print(maper)"
   ]
  },
  {
   "cell_type": "code",
   "execution_count": null,
   "metadata": {},
   "outputs": [],
   "source": []
  },
  {
   "cell_type": "code",
   "execution_count": null,
   "metadata": {},
   "outputs": [],
   "source": []
  },
  {
   "cell_type": "code",
   "execution_count": null,
   "metadata": {},
   "outputs": [],
   "source": []
  },
  {
   "cell_type": "code",
   "execution_count": null,
   "metadata": {},
   "outputs": [],
   "source": []
  },
  {
   "cell_type": "code",
   "execution_count": null,
   "metadata": {},
   "outputs": [],
   "source": []
  }
 ],
 "metadata": {
  "kernelspec": {
   "display_name": "Python 3",
   "language": "python",
   "name": "python3"
  },
  "language_info": {
   "codemirror_mode": {
    "name": "ipython",
    "version": 3
   },
   "file_extension": ".py",
   "mimetype": "text/x-python",
   "name": "python",
   "nbconvert_exporter": "python",
   "pygments_lexer": "ipython3",
   "version": "3.7.6"
  }
 },
 "nbformat": 4,
 "nbformat_minor": 4
}
